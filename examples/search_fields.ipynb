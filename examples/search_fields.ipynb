{
 "cells": [
  {
   "cell_type": "code",
   "execution_count": null,
   "id": "initial_id",
   "metadata": {},
   "outputs": [],
   "source": []
  },
  {
   "cell_type": "code",
   "execution_count": null,
   "id": "28030a38d84b4aed",
   "metadata": {},
   "outputs": [],
   "source": [
    "import json\n",
    "import os\n",
    "\n",
    "from neon_crm import NeonClient"
   ]
  },
  {
   "cell_type": "code",
   "execution_count": null,
   "id": "85c9b5c1960b87a8",
   "metadata": {},
   "outputs": [],
   "source": [
    "# Option 1: Use environment variables (recommended)\n",
    "client = NeonClient(\n",
    "    org_id=os.getenv(\"NEON_ORG_ID\"),\n",
    "    api_key=os.getenv(\"NEON_API_KEY\"),\n",
    "    environment=\"production\",  # or \"trial\"\n",
    ")\n",
    "\n",
    "# Option 2: Set credentials directly (not recommended for production)\n",
    "# client = NeonClient(\n",
    "#     org_id=\"your_org_id_here\",\n",
    "#     api_key=\"your_api_key_here\",\n",
    "#     environment=\"production\"\n",
    "# )\n",
    "\n",
    "print(\"Neon CRM client initialized successfully!\")"
   ]
  },
  {
   "cell_type": "code",
   "execution_count": null,
   "id": "3f4d63c3-1a51-47e7-bca6-00500ce1c3be",
   "metadata": {},
   "outputs": [],
   "source": [
    "search_fields = client.accounts.get_search_fields()\n",
    "print(json.dumps(search_fields, indent=2))"
   ]
  },
  {
   "cell_type": "code",
   "execution_count": null,
   "id": "2eb5e49bf8380f62",
   "metadata": {},
   "outputs": [],
   "source": [
    "output_fields = client.accounts.get_output_fields()\n",
    "print(json.dumps(output_fields, indent=2))"
   ]
  }
 ],
 "metadata": {
  "kernelspec": {
   "display_name": "Python 3 (ipykernel)",
   "language": "python",
   "name": "python3"
  },
  "language_info": {
   "codemirror_mode": {
    "name": "ipython",
    "version": 3
   },
   "file_extension": ".py",
   "mimetype": "text/x-python",
   "name": "python",
   "nbconvert_exporter": "python",
   "pygments_lexer": "ipython3",
   "version": "3.13.7"
  }
 },
 "nbformat": 4,
 "nbformat_minor": 5
}
