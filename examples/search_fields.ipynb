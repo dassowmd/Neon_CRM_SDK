{
 "cells": [
  {
   "cell_type": "markdown",
   "id": "initial_id",
   "metadata": {},
   "source": [
    "# Neon CRM SDK - Search and Output Fields Examples\n",
    "\n",
    "This notebook demonstrates how to retrieve available search fields and output fields for different Neon CRM resources. This is essential for building dynamic search queries and understanding what data can be retrieved from each endpoint.\n",
    "\n",
    "## Overview\n",
    "\n",
    "Each Neon CRM resource has:\n",
    "- **Search Fields**: Fields that can be used to filter/search records\n",
    "- **Output Fields**: Fields that can be included in the response data\n",
    "\n",
    "Both include standard fields (built into Neon) and custom fields (defined by your organization)."
   ]
  },
  {
   "cell_type": "code",
   "execution_count": null,
   "id": "28030a38d84b4aed",
   "metadata": {
    "ExecuteTime": {
     "end_time": "2025-09-18T11:49:24.110852Z",
     "start_time": "2025-09-18T11:49:23.098774Z"
    }
   },
   "outputs": [],
   "source": [
    "import os\n",
    "from typing import Any, Dict\n",
    "\n",
    "from neon_crm import NeonClient\n",
    "\n",
    "\n",
    "# Helper function to display field information in a clean format\n",
    "def display_fields(\n",
    "    resource_name: str, fields_data: Dict[str, Any], field_type: str = \"search\"\n",
    "):\n",
    "    print(f\"\\n=== {resource_name.upper()} {field_type.upper()} FIELDS ===\")\n",
    "\n",
    "    # Display standard fields\n",
    "    standard_fields = fields_data.get(\"standardFields\", [])\n",
    "    if standard_fields:\n",
    "        print(f\"\\nStandard Fields ({len(standard_fields)}):\")\n",
    "        if isinstance(standard_fields[0], str):\n",
    "            # Output fields are sometimes just strings\n",
    "            for field in sorted(standard_fields):\n",
    "                print(f\"  • {field}\")\n",
    "        else:\n",
    "            # Search fields have more structure\n",
    "            for field in sorted(standard_fields, key=lambda x: x.get(\"fieldName\", \"\")):\n",
    "                name = field.get(\"fieldName\", \"\")\n",
    "                field_type_info = field.get(\"fieldType\", \"\")\n",
    "                field_operators_info = field.get(\"operators\", \"\")\n",
    "                print(\n",
    "                    f\"  • {name} ({field_type_info}) operators: {field_operators_info}\"\n",
    "                )\n",
    "\n",
    "    # Display custom fields\n",
    "    custom_fields = fields_data.get(\"customFields\", [])\n",
    "    if custom_fields:\n",
    "        print(f\"\\nCustom Fields ({len(custom_fields)}):\")\n",
    "        for field in sorted(custom_fields, key=lambda x: x.get(\"displayName\", \"\")):\n",
    "            name = field.get(\"displayName\", \"\")\n",
    "            field_id = field.get(\"id\", \"\")\n",
    "            field_type_info = field.get(\"fieldType\", \"\")\n",
    "            field_operators_info = field.get(\"operators\", \"\")\n",
    "            print(\n",
    "                f\"  • {name} (ID: {field_id}, Type: {field_type_info} operators: {field_operators_info}\"\n",
    "            )\n",
    "\n",
    "    if not standard_fields and not custom_fields:\n",
    "        print(\"  No fields found\")\n",
    "\n",
    "    print(f\"\\nTotal: {len(standard_fields) + len(custom_fields)} fields\")"
   ]
  },
  {
   "cell_type": "code",
   "execution_count": null,
   "id": "091f6efb-9741-41cd-8a86-75df0586bfda",
   "metadata": {},
   "outputs": [],
   "source": [
    "def convert_custom_fields_to_dict(custom_fields):\n",
    "    res = {}\n",
    "    \n",
    "    for field in custom_fields:\n",
    "        name = field.get(\"displayName\", \"\")\n",
    "        body = {   \n",
    "        'id': field.get(\"id\", \"\"),\n",
    "        'type': field.get(\"fieldType\", \"\"),\n",
    "        'operators': field.get(\"operators\", \"\")\n",
    "        }\n",
    "        res[name] = body\n",
    "    return res"
   ]
  },
  {
   "cell_type": "code",
   "execution_count": null,
   "id": "85c9b5c1960b87a8",
   "metadata": {
    "ExecuteTime": {
     "end_time": "2025-09-18T11:49:35.119382Z",
     "start_time": "2025-09-18T11:49:35.063426Z"
    }
   },
   "outputs": [],
   "source": [
    "# Initialize the Neon CRM client\n",
    "# Option 1: Use environment variables (recommended)\n",
    "client = NeonClient(\n",
    "    org_id=os.getenv(\"NEON_ORG_ID\"),\n",
    "    api_key=os.getenv(\"NEON_API_KEY\"),\n",
    "    environment=\"production\",  # or \"trial\"\n",
    ")\n",
    "\n",
    "# Option 2: Set credentials directly (not recommended for production)\n",
    "# client = NeonClient(\n",
    "#     org_id=\"your_org_id_here\",\n",
    "#     api_key=\"your_api_key_here\",\n",
    "#     environment=\"production\"\n",
    "# )\n",
    "\n",
    "print(\"Neon CRM client initialized successfully!\")"
   ]
  },
  {
   "cell_type": "markdown",
   "id": "3f4d63c3-1a51-47e7-bca6-00500ce1c3be",
   "metadata": {},
   "source": [
    "## 1. Accounts Resource\n",
    "\n",
    "Accounts are the core records in Neon CRM representing people and organizations."
   ]
  },
  {
   "cell_type": "code",
   "execution_count": null,
   "id": "qbl0fwbqqz",
   "metadata": {
    "ExecuteTime": {
     "end_time": "2025-09-18T11:49:40.487714Z",
     "start_time": "2025-09-18T11:49:40.474447Z"
    }
   },
   "outputs": [],
   "source": [
    "# Get search fields for accounts\n",
    "try:\n",
    "    search_fields = client.accounts.get_search_fields()\n",
    "    display_fields(\"Accounts\", search_fields, \"search\")\n",
    "except Exception as e:\n",
    "    print(f\"Error getting account search fields: {e}\")\n"
   ]
  },
  {
   "cell_type": "code",
   "execution_count": null,
   "id": "9faeec8f-1da2-4cdb-9689-bc1663028d90",
   "metadata": {},
   "outputs": [],
   "source": [
    "\n",
    "# Get output fields for accounts\n",
    "try:\n",
    "    output_fields = client.accounts.get_output_fields()\n",
    "    display_fields(\"Accounts\", output_fields, \"output\")\n",
    "except Exception as e:\n",
    "    print(f\"Error getting account output fields: {e}\")\n",
    "    "
   ]
  },
  {
   "cell_type": "code",
   "execution_count": null,
   "id": "a97a9203-4f41-49c9-8771-32147067509c",
   "metadata": {},
   "outputs": [],
   "source": [
    "output_fields_to_check = [\n",
    "            \"campaign\", \"campaign\", \"code\", \n",
    "            \"goal\", \"startDate\", \"endDate\",\n",
    "            \"type\", \"status\"\n",
    "        ]\n",
    "missing = []\n",
    "for field in output_fields_to_check:\n",
    "    if field not in output_fields['standardFields'] and field not in convert_custom_fields_to_dict(output_fields['customFields']):\n",
    "        missing.append(field)\n",
    "missing"
   ]
  },
  {
   "cell_type": "markdown",
   "id": "2eb5e49bf8380f62",
   "metadata": {},
   "source": [
    "## 2. Donations Resource\n",
    "\n",
    "Donations represent financial contributions from accounts."
   ]
  },
  {
   "cell_type": "code",
   "execution_count": null,
   "id": "ck9w09tyexp",
   "metadata": {
    "ExecuteTime": {
     "end_time": "2025-09-18T11:49:48.654469Z",
     "start_time": "2025-09-18T11:49:47.953451Z"
    }
   },
   "outputs": [],
   "source": [
    "# Get search and output fields for donations\n",
    "try:\n",
    "    search_fields = client.donations.get_search_fields()\n",
    "    display_fields(\"Donations\", search_fields, \"search\")\n",
    "\n",
    "    output_fields = client.donations.get_output_fields()\n",
    "    display_fields(\"Donations\", output_fields, \"output\")\n",
    "except Exception as e:\n",
    "    print(f\"Error getting donation fields: {e}\")"
   ]
  },
  {
   "cell_type": "markdown",
   "id": "farvbplz1qg",
   "metadata": {},
   "source": [
    "## 3. Events Resource\n",
    "\n",
    "Events represent fundraising events, meetings, and other activities."
   ]
  },
  {
   "cell_type": "code",
   "execution_count": null,
   "id": "ylcerx1qy7c",
   "metadata": {
    "ExecuteTime": {
     "end_time": "2025-09-18T11:49:54.255264Z",
     "start_time": "2025-09-18T11:49:53.858562Z"
    }
   },
   "outputs": [],
   "source": [
    "# Get search and output fields for events\n",
    "try:\n",
    "    search_fields = client.events.get_search_fields()\n",
    "    display_fields(\"Events\", search_fields, \"search\")\n",
    "\n",
    "    output_fields = client.events.get_output_fields()\n",
    "    display_fields(\"Events\", output_fields, \"output\")\n",
    "except Exception as e:\n",
    "    print(f\"Error getting event fields: {e}\")"
   ]
  },
  {
   "cell_type": "markdown",
   "id": "r3ib39szpp",
   "metadata": {},
   "source": [
    "## 4. Activities Resource\n",
    "\n",
    "Activities track interactions and communications with accounts."
   ]
  },
  {
   "cell_type": "code",
   "execution_count": null,
   "id": "7wujreozdhy",
   "metadata": {
    "ExecuteTime": {
     "end_time": "2025-09-18T11:49:57.387833Z",
     "start_time": "2025-09-18T11:49:57.117818Z"
    }
   },
   "outputs": [],
   "source": [
    "# Get search and output fields for activities\n",
    "try:\n",
    "    search_fields = client.activities.get_search_fields()\n",
    "    display_fields(\"Activities\", search_fields, \"search\")\n",
    "\n",
    "    output_fields = client.activities.get_output_fields()\n",
    "    display_fields(\"Activities\", output_fields, \"output\")\n",
    "except Exception as e:\n",
    "    print(f\"Error getting activity fields: {e}\")"
   ]
  },
  {
   "cell_type": "markdown",
   "id": "nha52n2krym",
   "metadata": {},
   "source": [
    "## 6. Practical Usage Examples\n",
    "\n",
    "Now that we know what fields are available, let's see how to use them in actual search queries."
   ]
  },
  {
   "cell_type": "code",
   "execution_count": null,
   "id": "p26n338dypn",
   "metadata": {
    "ExecuteTime": {
     "end_time": "2025-09-18T11:50:10.184163Z",
     "start_time": "2025-09-18T11:50:09.719575Z"
    }
   },
   "outputs": [],
   "source": [
    "# Example 1: Search accounts by name using discovered fields\n",
    "print(\"=== EXAMPLE 1: Account Search ===\")\n",
    "try:\n",
    "    # Use field names we discovered above\n",
    "    search_request = {\n",
    "        \"searchFields\": [\n",
    "            {\"field\": \"First Name\", \"operator\": \"CONTAIN\", \"value\": \"John\"}\n",
    "        ],\n",
    "        \"outputFields\": [\"Account ID\", \"First Name\", \"Last Name\", \"Email 1\"],\n",
    "        \"pagination\": {\"currentPage\": 0, \"pageSize\": 200},\n",
    "    }\n",
    "\n",
    "    # search() returns a generator of individual account dictionaries\n",
    "    results = list(client.accounts.search(search_request))\n",
    "    print(f\"Found {len(results)} accounts with 'John' in first name\")\n",
    "\n",
    "    for account in results[:3]:  # Show first 3\n",
    "        print(\n",
    "            f\"  • {account.get('First Name', '')} {account.get('Last Name', '')} ({account.get('Email 1', 'No email')})\"\n",
    "        )\n",
    "\n",
    "except Exception as e:\n",
    "    print(f\"Error searching accounts: {e}\")"
   ]
  },
  {
   "cell_type": "code",
   "execution_count": null,
   "id": "mttsmptntdm",
   "metadata": {
    "ExecuteTime": {
     "end_time": "2025-09-18T11:50:20.527728Z",
     "start_time": "2025-09-18T11:50:14.581241Z"
    }
   },
   "outputs": [],
   "source": [
    "# Example 2: Search donations by date range (using a string field with EQUAL operator)\n",
    "print(\"\\n=== EXAMPLE 2: Donation Search ===\")\n",
    "try:\n",
    "    search_request = {\n",
    "        \"searchFields\": [\n",
    "            {\n",
    "                \"field\": \"date\",  # Use date field instead\n",
    "                \"operator\": \"GREATER_THAN\",  # Date fields support numeric operators\n",
    "                \"value\": \"2024-01-01\",  # Search for donations after Jan 1, 2024\n",
    "            }\n",
    "        ],\n",
    "        \"outputFields\": [\n",
    "            \"id\",\n",
    "            \"Account ID\",\n",
    "            \"amount\",\n",
    "            \"date\",\n",
    "            \"campaign\",  # Correct field name for campaign\n",
    "        ],\n",
    "        \"pagination\": {\"currentPage\": 0, \"pageSize\": 200},\n",
    "    }\n",
    "\n",
    "    # search() returns a generator of individual donation dictionaries\n",
    "    results = list(client.donations.search(search_request))\n",
    "    print(f\"Found {len(results)} donations after 2024-01-01\")\n",
    "\n",
    "    for donation in results[:3]:  # Show first 3\n",
    "        amount = donation.get(\"amount\", 0)\n",
    "        date = donation.get(\"date\", \"Unknown\")\n",
    "        campaign = donation.get(\"campaign\", \"No campaign\")\n",
    "        print(f\"  • ${amount} on {date} - {campaign}\")\n",
    "\n",
    "except Exception as e:\n",
    "    print(f\"Error searching donations: {e}\")"
   ]
  },
  {
   "cell_type": "code",
   "execution_count": null,
   "id": "3a255b3a-80b5-42d7-94e2-22d278508d65",
   "metadata": {
    "ExecuteTime": {
     "end_time": "2025-09-18T11:50:29.365713Z",
     "start_time": "2025-09-18T11:50:28.112959Z"
    }
   },
   "outputs": [],
   "source": [
    "# Example 3: Search accounts by name using discovered fields, but without setting outputFields\n",
    "print(\"=== EXAMPLE 3: Account Search ===\")\n",
    "try:\n",
    "    # Use field names we discovered above\n",
    "    search_request = {\n",
    "        \"searchFields\": [\n",
    "            {\"field\": \"First Name\", \"operator\": \"CONTAIN\", \"value\": \"John\"}\n",
    "        ],\n",
    "        \"pagination\": {\"currentPage\": 0, \"pageSize\": 200},\n",
    "    }\n",
    "\n",
    "    # search() returns a generator of individual account dictionaries\n",
    "    results = list(client.accounts.search(search_request))\n",
    "    print(f\"Found {len(results)} accounts with 'John' in first name\")\n",
    "\n",
    "    for account in results[:3]:  # Show first 3\n",
    "        print(\n",
    "            f\"  • {account.get('First Name', '')} {account.get('Last Name', '')} ({account.get('Email 1', 'No email')})\"\n",
    "        )\n",
    "\n",
    "except Exception as e:\n",
    "    print(f\"Error searching accounts: {e}\")"
   ]
  },
  {
   "cell_type": "markdown",
   "id": "e2z83etu295",
   "metadata": {},
   "source": [
    "## 7. Tips and Best Practices\n",
    "\n",
    "### Dynamic Field Discovery\n",
    "- Always call `get_search_fields()` and `get_output_fields()` to get the most current field list\n",
    "- Custom fields vary between organizations, so discovery is essential for portable code\n",
    "- Cache field information when possible to reduce API calls\n",
    "\n",
    "### Field Types and Operators\n",
    "- String fields: Use `CONTAIN`, `EQUAL`, `NOT_EQUAL`, `BLANK`, `NOT_BLANK`\n",
    "- Number fields: Add `GREATER_THAN`, `LESS_THAN`, `IN_RANGE` operators\n",
    "- Date fields: Support all number operators plus date-specific formatting\n",
    "- Boolean fields: Limited to `EQUAL` and `NOT_EQUAL`\n",
    "\n",
    "### Error Handling\n",
    "- Some resources might not support field discovery\n",
    "- Always wrap API calls in try-catch blocks\n",
    "- The SDK provides helpful suggestions for misspelled field names"
   ]
  },
  {
   "cell_type": "code",
   "execution_count": null,
   "id": "l7vxysq128l",
   "metadata": {
    "ExecuteTime": {
     "end_time": "2025-09-18T11:51:15.101756Z",
     "start_time": "2025-09-18T11:51:15.088666Z"
    }
   },
   "outputs": [],
   "source": [
    "# Example 3: Comprehensive field discovery for all major resources\n",
    "print(\"=== SUMMARY: Field Counts by Resource ===\")\n",
    "\n",
    "resources_to_check = [\n",
    "    (\"accounts\", client.accounts),\n",
    "    (\"donations\", client.donations),\n",
    "    (\"events\", client.events),\n",
    "    (\"activities\", client.activities),\n",
    "]\n",
    "\n",
    "summary_data = []\n",
    "\n",
    "for resource_name, resource_obj in resources_to_check:\n",
    "    try:\n",
    "        search_fields = resource_obj.get_search_fields()\n",
    "        output_fields = resource_obj.get_output_fields()\n",
    "\n",
    "        search_count = len(search_fields.get(\"standardFields\", [])) + len(\n",
    "            search_fields.get(\"customFields\", [])\n",
    "        )\n",
    "        output_count = len(output_fields.get(\"standardFields\", [])) + len(\n",
    "            output_fields.get(\"customFields\", [])\n",
    "        )\n",
    "\n",
    "        summary_data.append(\n",
    "            {\n",
    "                \"resource\": resource_name.title(),\n",
    "                \"search_fields\": search_count,\n",
    "                \"output_fields\": output_count,\n",
    "            }\n",
    "        )\n",
    "\n",
    "    except Exception as e:\n",
    "        summary_data.append(\n",
    "            {\n",
    "                \"resource\": resource_name.title(),\n",
    "                \"search_fields\": f\"Error: {e}\",\n",
    "                \"output_fields\": f\"Error: {e}\",\n",
    "            }\n",
    "        )\n",
    "\n",
    "# Display summary table\n",
    "print(f\"{'Resource':<12} {'Search Fields':<15} {'Output Fields':<15}\")\n",
    "print(\"-\" * 45)\n",
    "for data in summary_data:\n",
    "    print(\n",
    "        f\"{data['resource']:<12} {data['search_fields']:<15} {data['output_fields']:<15}\"\n",
    "    )\n",
    "\n",
    "print(\n",
    "    \"\\nThis information helps you understand the scope of searchable and retrievable data for each resource type.\"\n",
    ")"
   ]
  },
  {
   "cell_type": "code",
   "execution_count": null,
   "id": "e2fdfaad246ce520",
   "metadata": {
    "ExecuteTime": {
     "end_time": "2025-09-18T11:56:15.489599Z",
     "start_time": "2025-09-18T11:56:15.438247Z"
    }
   },
   "outputs": [],
   "source": [
    "  # Print clean field name lists for easy copying AND save to disk\n",
    "  import json\n",
    "  from datetime import datetime\n",
    "\n",
    "  print(\"=== CLEAN FIELD NAME LISTS FOR DEBUGGING ===\")\n",
    "\n",
    "  # Dictionary to store all field data\n",
    "  field_data = {\n",
    "      \"timestamp\": datetime.now().isoformat(),\n",
    "      \"resources\": {}\n",
    "  }\n",
    "\n",
    "  resources_to_check = [\n",
    "      (\"accounts\", client.accounts),\n",
    "      (\"donations\", client.donations),\n",
    "      (\"events\", client.events),\n",
    "      (\"activities\", client.activities),\n",
    "  ]\n",
    "\n",
    "  for resource_name, resource_obj in resources_to_check:\n",
    "      try:\n",
    "          print(f\"\\n{resource_name.upper()} SEARCH FIELDS:\")\n",
    "          search_fields = resource_obj.get_search_fields()\n",
    "\n",
    "          search_field_names = []\n",
    "          for field in search_fields.get(\"standardFields\", []):\n",
    "              field_name = field.get(\"fieldName\", \"\")\n",
    "              if field_name:\n",
    "                  print(f\"  '{field_name}'\")\n",
    "                  search_field_names.append(field_name)\n",
    "\n",
    "          print(f\"\\n{resource_name.upper()} OUTPUT FIELDS:\")\n",
    "          output_fields = resource_obj.get_output_fields()\n",
    "          standard_fields = output_fields.get(\"standardFields\", [])\n",
    "\n",
    "          output_field_names = []\n",
    "          if standard_fields and isinstance(standard_fields[0], str):\n",
    "              # Simple string list\n",
    "              for field in standard_fields:\n",
    "                  print(f\"  '{field}'\")\n",
    "                  output_field_names.append(field)\n",
    "          else:\n",
    "              # Object list\n",
    "              for field in standard_fields:\n",
    "                  field_name = field.get(\"name\", \"\") or field.get(\"displayName\", \"\") or field.get(\"fieldName\", \"\")\n",
    "                  if field_name:\n",
    "                      print(f\"  '{field_name}'\")\n",
    "                      output_field_names.append(field_name)\n",
    "\n",
    "          # Store in our data structure\n",
    "          field_data[\"resources\"][resource_name] = {\n",
    "              \"search_fields\": search_field_names,\n",
    "              \"output_fields\": output_field_names,\n",
    "              \"raw_search_response\": search_fields,\n",
    "              \"raw_output_response\": output_fields\n",
    "          }\n",
    "\n",
    "      except Exception as e:\n",
    "          print(f\"Error with {resource_name}: {e}\")\n",
    "          field_data[\"resources\"][resource_name] = {\n",
    "              \"error\": str(e),\n",
    "              \"search_fields\": [],\n",
    "              \"output_fields\": []\n",
    "          }\n",
    "\n",
    "  # Write to JSON file\n",
    "  with open(\"field_names_discovered.json\", \"w\") as f:\n",
    "      json.dump(field_data, f, indent=2)\n",
    "\n",
    "  print(f\"\\n✅ Field data saved to field_names_discovered.json\")\n",
    "\n",
    "  # Also write a simple text summary\n",
    "  with open(\"field_names_summary.txt\", \"w\") as f:\n",
    "      f.write(\"NEON CRM API FIELD NAMES DISCOVERED\\n\")\n",
    "      f.write(\"=\" * 50 + \"\\n\")\n",
    "      f.write(f\"Generated: {datetime.now().strftime('%Y-%m-%d %H:%M:%S')}\\n\\n\")\n",
    "\n",
    "      for resource_name, data in field_data[\"resources\"].items():\n",
    "          if \"error\" in data:\n",
    "              f.write(f\"{resource_name.upper()} - ERROR: {data['error']}\\n\\n\")\n",
    "              continue\n",
    "\n",
    "          f.write(f\"{resource_name.upper()} RESOURCE:\\n\")\n",
    "          f.write(\"-\" * 30 + \"\\n\")\n",
    "\n",
    "          f.write(f\"Search Fields ({len(data['search_fields'])}):\\n\")\n",
    "          for field in data['search_fields']:\n",
    "              f.write(f\"  - {field}\\n\")\n",
    "\n",
    "          f.write(f\"\\nOutput Fields ({len(data['output_fields'])}):\\n\")\n",
    "          for field in data['output_fields']:\n",
    "              f.write(f\"  - {field}\\n\")\n",
    "\n",
    "          f.write(\"\\n\" + \"=\"*50 + \"\\n\\n\")\n",
    "\n",
    "  print(f\"✅ Field summary saved to field_names_summary.txt\")\n"
   ]
  }
 ],
 "metadata": {
  "kernelspec": {
   "display_name": "Python 3 (ipykernel)",
   "language": "python",
   "name": "python3"
  },
  "language_info": {
   "codemirror_mode": {
    "name": "ipython",
    "version": 3
   },
   "file_extension": ".py",
   "mimetype": "text/x-python",
   "name": "python",
   "nbconvert_exporter": "python",
   "pygments_lexer": "ipython3",
   "version": "3.13.7"
  }
 },
 "nbformat": 4,
 "nbformat_minor": 5
}
