{
 "cells": [
  {
   "cell_type": "markdown",
   "metadata": {},
   "source": [
    "# Account Retrieval and Search Examples\n",
    "\n",
    "This notebook demonstrates various ways to find, search, and retrieve account information with the Neon CRM SDK, including related data like donations, memberships, orders, and pledges.\n",
    "\n",
    "## Prerequisites\n",
    "\n",
    "Before running this notebook, make sure you have:\n",
    "1. Installed the Neon CRM SDK: `pip install neon-crm`\n",
    "2. Set up your environment variables:\n",
    "   - `NEON_ORG_ID`: Your organization ID\n",
    "   - `NEON_API_KEY`: Your API key\n",
    "3. Or update the client initialization below with your credentials"
   ]
  },
  {
   "cell_type": "markdown",
   "metadata": {},
   "source": [
    "## Import Required Libraries"
   ]
  },
  {
   "cell_type": "code",
   "execution_count": 1,
   "metadata": {},
   "outputs": [],
   "source": [
    "import os\n",
    "\n",
    "from neon_crm import NeonClient, UserType\n",
    "from neon_crm.types import SearchRequest"
   ]
  },
  {
   "cell_type": "markdown",
   "metadata": {},
   "source": [
    "## Initialize the Neon CRM Client\n",
    "\n",
    "**Important:** Update the credentials below or set the appropriate environment variables."
   ]
  },
  {
   "cell_type": "code",
   "execution_count": 2,
   "metadata": {},
   "outputs": [
    {
     "name": "stdout",
     "output_type": "stream",
     "text": [
      "Neon CRM client initialized successfully!\n"
     ]
    }
   ],
   "source": [
    "# Option 1: Use environment variables (recommended)\n",
    "client = NeonClient(\n",
    "    org_id=os.getenv(\"NEON_ORG_ID\"),\n",
    "    api_key=os.getenv(\"NEON_API_KEY\"),\n",
    "    environment=\"production\",  # or \"trial\"\n",
    ")\n",
    "\n",
    "# Option 2: Set credentials directly (not recommended for production)\n",
    "# client = NeonClient(\n",
    "#     org_id=\"your_org_id_here\",\n",
    "#     api_key=\"your_api_key_here\",\n",
    "#     environment=\"production\"\n",
    "# )\n",
    "\n",
    "print(\"Neon CRM client initialized successfully!\")"
   ]
  },
  {
   "cell_type": "markdown",
   "metadata": {},
   "source": [
    "## Example 1: List All Accounts with Basic Pagination\n",
    "\n",
    "This example demonstrates how to list accounts with pagination and basic filtering."
   ]
  },
  {
   "cell_type": "code",
   "execution_count": null,
   "metadata": {},
   "outputs": [],
   "source": [
    "def list_all_accounts():\n",
    "    \"\"\"List all accounts with basic pagination.\"\"\"\n",
    "    try:\n",
    "        print(\"Fetching all accounts...\")\n",
    "        count = 0\n",
    "\n",
    "        for account in client.accounts.list(\n",
    "            page_size=10, user_type=UserType.INDIVIDUAL\n",
    "        ):\n",
    "            count += 1\n",
    "            account_type = account.get(\"userType\", \"Unknown\")\n",
    "\n",
    "            if account_type == \"INDIVIDUAL\":\n",
    "                name = f\"{account.get('firstName', '')} {account.get('lastName', '')}\"\n",
    "            else:\n",
    "                name = account.get(\"companyName\", \"Unknown Company\")\n",
    "\n",
    "            print(\n",
    "                f\"{count}. [{account_type}] {name} ({account.get('email', 'No email')})\"\n",
    "            )\n",
    "\n",
    "            # Limit output for demo\n",
    "            if count >= 20:\n",
    "                print(\"... (showing first 20 accounts)\")\n",
    "                break\n",
    "\n",
    "        print(f\"\\n✅ Total accounts processed: {count}\")\n",
    "\n",
    "    except Exception as e:\n",
    "        print(f\"❌ Error listing accounts: {e}\")\n",
    "\n",
    "\n",
    "# Run the example\n",
    "print(\"📋 Listing Individual Accounts\")\n",
    "print(\"=\" * 35)\n",
    "list_all_accounts()"
   ]
  },
  {
   "cell_type": "markdown",
   "metadata": {},
   "source": [
    "## Example 2: Search Accounts by Email\n",
    "\n",
    "This example shows how to search for specific accounts using email filtering."
   ]
  },
  {
   "cell_type": "code",
   "execution_count": null,
   "metadata": {},
   "outputs": [],
   "source": [
    "def search_accounts_by_email(email_to_search=\"john.doe@example.com\"):\n",
    "    \"\"\"Search for accounts by email address.\"\"\"\n",
    "    try:\n",
    "        print(f\"Searching accounts by email: {email_to_search}...\")\n",
    "        found_accounts = 0\n",
    "\n",
    "        for account in client.accounts.list(\n",
    "            email=email_to_search, user_type=UserType.INDIVIDUAL\n",
    "        ):\n",
    "            found_accounts += 1\n",
    "            account_type = account.get(\"userType\", \"Unknown\")\n",
    "            name = f\"{account.get('firstName', '')} {account.get('lastName', '')}\"\n",
    "            print(f\"Found: [{account_type}] {name} - {account.get('email')}\")\n",
    "\n",
    "        if found_accounts == 0:\n",
    "            print(f\"No accounts found with email: {email_to_search}\")\n",
    "        else:\n",
    "            print(f\"\\n✅ Found {found_accounts} account(s) with that email\")\n",
    "\n",
    "    except Exception as e:\n",
    "        print(f\"❌ Error searching by email: {e}\")\n",
    "\n",
    "\n",
    "# Run the example - you can change the email to search for\n",
    "print(\"\\n🔍 Search Accounts by Email\")\n",
    "print(\"=\" * 30)\n",
    "search_accounts_by_email(\"dassowmd@gmail.com\")  # Change this to an email in your system"
   ]
  },
  {
   "cell_type": "markdown",
   "metadata": {},
   "source": [
    "## Example 3: Advanced Account Search\n",
    "\n",
    "This example demonstrates the powerful search functionality with multiple criteria and specific output fields."
   ]
  },
  {
   "cell_type": "code",
   "execution_count": null,
   "metadata": {
    "ExecuteTime": {
     "start_time": "2025-09-17T03:32:10.782389Z"
    },
    "jupyter": {
     "is_executing": true
    }
   },
   "outputs": [],
   "source": "def advanced_account_search():\n    \"\"\"Perform advanced search using the search endpoint.\"\"\"\n\n    # Advanced search with multiple criteria\n    search_request: SearchRequest = {\n        \"searchFields\": [\n            {\n                \"field\": \"First Name\",\n                \"operator\": \"CONTAIN\",\n                \"value\": \"Test\",\n            },  # Change as needed\n            {\"field\": \"Account Type\", \"operator\": \"EQUAL\", \"value\": \"INDIVIDUAL\"},\n        ],\n        \"outputFields\": [\n            \"Account ID\",\n            \"First Name\",\n            \"Last Name\",\n            \"Email 1\",\n            \"Account Type\",\n            \"Account Created Date/Time\",\n        ],\n        \"pagination\": {\"currentPage\": 0, \"pageSize\": 25},\n    }\n\n    try:\n        print(\"Performing advanced search...\")\n        results = list(client.accounts.search(search_request))\n\n        print(f\"✅ Found {len(results)} accounts matching search criteria\")\n        print()\n\n        for i, account in enumerate(results[:10], 1):  # Show first 10 results\n            print(\n                f\"{i}. Account ID: {account.get('Account ID')}, Type: {account.get('Account Type')}\"\n            )\n            print(f\"   Name: {account.get('First Name')} {account.get('Last Name')}\")\n            print(f\"   Email: {account.get('Email 1', 'No email')}\")\n            print(f\"   Created: {account.get('Account Created Date/Time', 'Unknown')}\")\n            print(\"-\" * 40)\n\n        if len(results) > 10:\n            print(f\"... and {len(results) - 10} more results\")\n\n    except Exception as e:\n        print(f\"❌ Error in advanced search: {e}\")\n\n\n# Run the example\nprint(\"\\n🎯 Advanced Account Search\")\nprint(\"=\" * 30)\nadvanced_account_search()"
  },
  {
   "cell_type": "markdown",
   "metadata": {},
   "source": [
    "## Cleanup\n",
    "\n",
    "Don't forget to close the client connection when you're done:"
   ]
  },
  {
   "cell_type": "code",
   "execution_count": null,
   "metadata": {},
   "outputs": [],
   "source": [
    "# Close the client connection\n",
    "client.close()\n",
    "print(\"✅ Client connection closed.\")"
   ]
  },
  {
   "cell_type": "markdown",
   "metadata": {},
   "source": [
    "## Key Takeaways\n",
    "\n",
    "From this notebook, you learned how to:\n",
    "\n",
    "1. **List accounts** with pagination and filtering\n",
    "2. **Search accounts** by email and other criteria  \n",
    "3. **Perform advanced searches** with multiple fields and custom output\n",
    "4. **Retrieve detailed account information** including addresses\n",
    "5. **Get related data** like donations and memberships\n",
    "6. **Filter by account type** (Individual vs Company)\n",
    "7. **Search using custom fields** for organization-specific data\n",
    "\n",
    "## Next Steps\n",
    "\n",
    "- Try the **Account Creation** examples to create test data\n",
    "- Explore **Address Management** for location-based operations\n",
    "- Check out **Custom Fields** examples for advanced field handling\n",
    "- Learn about **Pagination** for handling large datasets"
   ]
  }
 ],
 "metadata": {
  "kernelspec": {
   "display_name": "Python 3 (ipykernel)",
   "language": "python",
   "name": "python3"
  },
  "language_info": {
   "codemirror_mode": {
    "name": "ipython",
    "version": 3
   },
   "file_extension": ".py",
   "mimetype": "text/x-python",
   "name": "python",
   "nbconvert_exporter": "python",
   "pygments_lexer": "ipython3",
   "version": "3.13.7"
  }
 },
 "nbformat": 4,
 "nbformat_minor": 4
}
