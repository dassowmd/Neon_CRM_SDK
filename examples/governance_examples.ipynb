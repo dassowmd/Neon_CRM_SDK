{
 "cells": [
  {
   "cell_type": "markdown",
   "id": "title",
   "metadata": {},
   "source": [
    "# Neon CRM SDK - Governance Examples\n",
    "\n",
    "This notebook demonstrates how to use the governance system with the Neon CRM SDK.\n",
    "\n",
    "Topics covered:\n",
    "- Simple role-based access (recommended)\n",
    "- Role with permission overrides\n",
    "- Using environment variables\n",
    "- Available roles and their permissions\n",
    "- Advanced: Switching roles\n",
    "- Advanced: Permission configuration"
   ]
  },
  {
   "cell_type": "code",
   "execution_count": 1,
   "id": "imports",
   "metadata": {
    "execution": {
     "iopub.execute_input": "2025-10-04T20:39:10.910780Z",
     "iopub.status.busy": "2025-10-04T20:39:10.910677Z",
     "iopub.status.idle": "2025-10-04T20:39:11.931560Z",
     "shell.execute_reply": "2025-10-04T20:39:11.931336Z"
    }
   },
   "outputs": [
    {
     "name": "stdout",
     "output_type": "stream",
     "text": [
      "✅ Imports successful\n"
     ]
    }
   ],
   "source": [
    "import os\n",
    "from neon_crm import NeonClient\n",
    "from neon_crm.governance import (\n",
    "    Role,\n",
    "    Permission,\n",
    "    ResourceType,\n",
    "    PermissionConfig\n",
    ")\n",
    "from neon_crm.governance.access_control import PermissionError\n",
    "\n",
    "print(\"✅ Imports successful\")"
   ]
  },
  {
   "cell_type": "markdown",
   "id": "roles-header",
   "metadata": {},
   "source": [
    "## Available Roles\n",
    "\n",
    "The SDK provides several built-in roles for common use cases:"
   ]
  },
  {
   "cell_type": "code",
   "execution_count": 2,
   "id": "available-roles",
   "metadata": {
    "execution": {
     "iopub.execute_input": "2025-10-04T20:39:11.932678Z",
     "iopub.status.busy": "2025-10-04T20:39:11.932566Z",
     "iopub.status.idle": "2025-10-04T20:39:11.934422Z",
     "shell.execute_reply": "2025-10-04T20:39:11.934240Z"
    }
   },
   "outputs": [
    {
     "name": "stdout",
     "output_type": "stream",
     "text": [
      "Available Roles:\n",
      "==================================================\n",
      "  • viewer: Read-only access to most resources\n",
      "  • editor: Read and write access to most resources\n",
      "  • admin: Full access to all resources\n",
      "  • fundraiser: Focused on donation and fundraising activities\n",
      "  • event_manager: Focused on event management\n",
      "  • volunteer_coordinator: Focused on volunteer management\n"
     ]
    }
   ],
   "source": [
    "print(\"Available Roles:\")\n",
    "print(\"=\" * 50)\n",
    "\n",
    "roles_info = {\n",
    "    \"viewer\": \"Read-only access to most resources\",\n",
    "    \"editor\": \"Read and write access to most resources\",\n",
    "    \"admin\": \"Full access to all resources\",\n",
    "    \"fundraiser\": \"Focused on donation and fundraising activities\",\n",
    "    \"event_manager\": \"Focused on event management\",\n",
    "    \"volunteer_coordinator\": \"Focused on volunteer management\"\n",
    "}\n",
    "\n",
    "for role, description in roles_info.items():\n",
    "    print(f\"  • {role}: {description}\")"
   ]
  },
  {
   "cell_type": "markdown",
   "id": "simple-role-header",
   "metadata": {},
   "source": [
    "## 1. Simple Role-Based Usage (Recommended)\n",
    "\n",
    "The simplest way to use governance is to specify a role when creating the client."
   ]
  },
  {
   "cell_type": "code",
   "execution_count": 3,
   "id": "simple-role",
   "metadata": {
    "execution": {
     "iopub.execute_input": "2025-10-04T20:39:11.935345Z",
     "iopub.status.busy": "2025-10-04T20:39:11.935283Z",
     "iopub.status.idle": "2025-10-04T20:39:11.936740Z",
     "shell.execute_reply": "2025-10-04T20:39:11.936541Z"
    }
   },
   "outputs": [],
   "source": [
    "# Create a client with a fundraiser role# Governance is enabled by defaultclient = NeonClient(    org_id=os.getenv(\"NEON_ORG_ID\"),    api_key=os.getenv(\"NEON_API_KEY\"),    default_role=\"fundraiser\"  # Can also use Role.FUNDRAISER)try:    # This will work - fundraisers can read accounts    accounts = list(client.accounts.search({        \"searchFields\": [{\"field\": \"Account Type\", \"operator\": \"NOT_BLANK\"}],        \"outputFields\": [\"Account ID\", \"First Name\", \"Last Name\"],        \"pagination\": {\"currentPage\": 0, \"pageSize\": 5}    }))    print(f\"✓ Successfully retrieved {len(accounts)} accounts\")        # Fundraisers can also create donations (commented out for safety)    # donation_data = {...}    # client.donations.create(donation_data)    print(\"✓ Fundraiser role has permission to create donations\")    except PermissionError as e:    print(f\"✗ Permission denied: {e}\")"
   ]
  },
  {
   "cell_type": "markdown",
   "id": "overrides-header",
   "metadata": {},
   "source": [
    "## 2. Role with Permission Overrides\n",
    "\n",
    "You can start with a base role and override permissions for specific resources."
   ]
  },
  {
   "cell_type": "code",
   "execution_count": 4,
   "id": "role-overrides",
   "metadata": {
    "execution": {
     "iopub.execute_input": "2025-10-04T20:39:11.937639Z",
     "iopub.status.busy": "2025-10-04T20:39:11.937569Z",
     "iopub.status.idle": "2025-10-04T20:39:11.939047Z",
     "shell.execute_reply": "2025-10-04T20:39:11.938873Z"
    }
   },
   "outputs": [],
   "source": [
    "# Start with viewer role (read-only) but allow creating donationsclient_with_overrides = NeonClient(    org_id=os.getenv(\"NEON_ORG_ID\"),    api_key=os.getenv(\"NEON_API_KEY\"),    default_role=\"viewer\",    permission_overrides={        \"donations\": {\"read\", \"write\"},  # Can use strings        ResourceType.CAMPAIGNS: {Permission.READ, Permission.WRITE}  # Or enums    })try:    # This will work - viewers can read    accounts = list(client_with_overrides.accounts.search({        \"searchFields\": [{\"field\": \"Account Type\", \"operator\": \"NOT_BLANK\"}],        \"outputFields\": [\"Account ID\", \"First Name\"],        \"pagination\": {\"currentPage\": 0, \"pageSize\": 2}    }))    print(f\"✓ Read {len(accounts)} accounts (viewer permission)\")        # This will work - we overrode to allow donation writes    print(\"✓ Can create donations (permission override)\")        # This will fail - viewers can't create accounts (no override)    # client_with_overrides.accounts.create({...})  # Would raise PermissionError    print(\"✗ Cannot create accounts (viewer restriction, no override)\")    except PermissionError as e:    print(f\"✗ Permission denied: {e}\")"
   ]
  },
  {
   "cell_type": "markdown",
   "id": "env-vars-header",
   "metadata": {},
   "source": [
    "## 3. Using Environment Variables\n",
    "\n",
    "You can configure the default role using the `NEON_DEFAULT_ROLE` environment variable."
   ]
  },
  {
   "cell_type": "code",
   "execution_count": 5,
   "id": "env-vars",
   "metadata": {
    "execution": {
     "iopub.execute_input": "2025-10-04T20:39:11.939896Z",
     "iopub.status.busy": "2025-10-04T20:39:11.939838Z",
     "iopub.status.idle": "2025-10-04T20:39:11.972394Z",
     "shell.execute_reply": "2025-10-04T20:39:11.972143Z"
    }
   },
   "outputs": [
    {
     "name": "stdout",
     "output_type": "stream",
     "text": [
      "Governance enabled: True\n",
      "Role: viewer\n"
     ]
    }
   ],
   "source": [
    "# Set role via environment variable (or use .env file)\n",
    "# os.environ[\"NEON_DEFAULT_ROLE\"] = \"editor\"\n",
    "\n",
    "client_env = NeonClient(\n",
    "    org_id=os.getenv(\"NEON_ORG_ID\"),\n",
    "    api_key=os.getenv(\"NEON_API_KEY\")\n",
    "    # Role loaded from NEON_DEFAULT_ROLE environment variable\n",
    "    # Defaults to \"viewer\" if not set\n",
    ")\n",
    "\n",
    "print(f\"Governance enabled: {client_env.governance_enabled}\")\n",
    "if client_env.user_permissions:\n",
    "    print(f\"Role: {client_env.user_permissions.role}\")\n",
    "else:\n",
    "    print(\"Using default 'viewer' role\")"
   ]
  },
  {
   "cell_type": "markdown",
   "id": "switching-header",
   "metadata": {},
   "source": [
    "## 4. Advanced: Switching Roles\n",
    "\n",
    "For different operations, you can create separate clients with different roles."
   ]
  },
  {
   "cell_type": "code",
   "execution_count": 6,
   "id": "switching-roles",
   "metadata": {
    "execution": {
     "iopub.execute_input": "2025-10-04T20:39:11.973480Z",
     "iopub.status.busy": "2025-10-04T20:39:11.973410Z",
     "iopub.status.idle": "2025-10-04T20:39:11.974906Z",
     "shell.execute_reply": "2025-10-04T20:39:11.974713Z"
    }
   },
   "outputs": [],
   "source": [
    "# Create an admin client for privileged operationsadmin_client = NeonClient(    org_id=os.getenv(\"NEON_ORG_ID\"),    api_key=os.getenv(\"NEON_API_KEY\"),    default_role=\"admin\")try:    # Admin can do anything    accounts = list(admin_client.accounts.search({        \"searchFields\": [{\"field\": \"Account Type\", \"operator\": \"NOT_BLANK\"}],        \"outputFields\": [\"Account ID\"],        \"pagination\": {\"currentPage\": 0, \"pageSize\": 2}    }))    print(f\"✓ Admin accessed {len(accounts)} accounts\")except PermissionError as e:    print(f\"✗ Admin permission denied: {e}\")# Create a viewer client for read-only operationsviewer_client = NeonClient(    org_id=os.getenv(\"NEON_ORG_ID\"),    api_key=os.getenv(\"NEON_API_KEY\"),    default_role=\"viewer\")try:    # Viewer can read    accounts = list(viewer_client.accounts.search({        \"searchFields\": [{\"field\": \"Account Type\", \"operator\": \"NOT_BLANK\"}],        \"outputFields\": [\"Account ID\"],        \"pagination\": {\"currentPage\": 0, \"pageSize\": 2}    }))    print(f\"✓ Viewer accessed {len(accounts)} accounts\")        # Viewer cannot create (commented out)    # viewer_client.accounts.create({...})  # Would raise PermissionError    print(\"✗ Viewer cannot create accounts (by design)\")    except PermissionError as e:    print(f\"✗ Viewer permission denied: {e}\")"
   ]
  },
  {
   "cell_type": "markdown",
   "id": "config-header",
   "metadata": {},
   "source": [
    "## 5. Advanced: Permission Configuration\n",
    "\n",
    "For multi-user scenarios, you can create a permission configuration with multiple user profiles."
   ]
  },
  {
   "cell_type": "code",
   "execution_count": 7,
   "id": "permission-config",
   "metadata": {
    "execution": {
     "iopub.execute_input": "2025-10-04T20:39:11.975933Z",
     "iopub.status.busy": "2025-10-04T20:39:11.975873Z",
     "iopub.status.idle": "2025-10-04T20:39:11.981968Z",
     "shell.execute_reply": "2025-10-04T20:39:11.981783Z"
    }
   },
   "outputs": [
    {
     "name": "stdout",
     "output_type": "stream",
     "text": [
      "✓ Created permission configuration with 3 users\n",
      "✓ Successfully set user permissions from config\n",
      "  Fundraiser1 donation permissions: ['read', 'update', 'write']\n",
      "  Users who can create donations: ['fundraiser1', 'admin1']\n"
     ]
    }
   ],
   "source": [
    "# Create a permission configuration\n",
    "config = PermissionConfig()\n",
    "\n",
    "# Add users to the configuration\n",
    "config.add_user(\"fundraiser1\", Role.FUNDRAISER)\n",
    "config.add_user(\"admin1\", Role.ADMIN)\n",
    "config.add_user(\"event_manager1\", Role.EVENT_MANAGER)\n",
    "\n",
    "print(\"✓ Created permission configuration with 3 users\")\n",
    "\n",
    "# Create a client with the configuration\n",
    "client_config = NeonClient(\n",
    "    org_id=os.getenv(\"NEON_ORG_ID\"),\n",
    "    api_key=os.getenv(\"NEON_API_KEY\"),\n",
    "    permission_config=config\n",
    ")\n",
    "\n",
    "# Set user by ID (looks up in configuration)\n",
    "if client_config.set_user_by_id(\"fundraiser1\"):\n",
    "    print(\"✓ Successfully set user permissions from config\")\n",
    "    \n",
    "    # Get current user's permissions for donations\n",
    "    perms = config.get_effective_permissions(\"fundraiser1\", ResourceType.DONATIONS)\n",
    "    print(f\"  Fundraiser1 donation permissions: {[p.value for p in perms]}\")\n",
    "else:\n",
    "    print(\"✗ User not found in configuration\")\n",
    "\n",
    "# List all users with donation write permission\n",
    "users_with_write = config.list_users_with_permission(ResourceType.DONATIONS, Permission.WRITE)\n",
    "print(f\"  Users who can create donations: {users_with_write}\")"
   ]
  },
  {
   "cell_type": "markdown",
   "id": "summary",
   "metadata": {},
   "source": [
    "## Summary\n",
    "\n",
    "### Key Takeaways\n",
    "\n",
    "1. **Simple Role-Based** (Recommended): Just pass `default_role` parameter\n",
    "   ```python\n",
    "   client = NeonClient(default_role=\"fundraiser\")\n",
    "   ```\n",
    "\n",
    "2. **Permission Overrides**: Customize specific resource permissions\n",
    "   ```python\n",
    "   client = NeonClient(\n",
    "       default_role=\"viewer\",\n",
    "       permission_overrides={\"donations\": {\"read\", \"write\"}}\n",
    "   )\n",
    "   ```\n",
    "\n",
    "3. **Environment Variables**: Use `NEON_DEFAULT_ROLE` for configuration\n",
    "\n",
    "4. **Multiple Roles**: Create separate clients for different permission levels\n",
    "\n",
    "5. **Advanced Config**: Use `PermissionConfig` for multi-user scenarios\n",
    "\n",
    "### Best Practices\n",
    "\n",
    "- ✅ Use the simplest approach that meets your needs (usually `default_role`)\n",
    "- ✅ Use `viewer` role by default for read-only operations\n",
    "- ✅ Use specific roles (`fundraiser`, `event_manager`) for focused access\n",
    "- ✅ Only use `admin` role when truly necessary\n",
    "- ✅ Test permission restrictions before deploying to production\n",
    "\n",
    "### Available Roles\n",
    "\n",
    "- `viewer` - Read-only access\n",
    "- `editor` - Read/write for most resources\n",
    "- `fundraiser` - Donations, accounts, campaigns, pledges\n",
    "- `event_manager` - Events, registrations, attendees\n",
    "- `volunteer_coordinator` - Volunteers, activities\n",
    "- `admin` - Full access to everything\n",
    "\n",
    "For more details, see the [Permissions Documentation](../docs/permissions.md)."
   ]
  }
 ],
 "metadata": {
  "kernelspec": {
   "display_name": "Python 3",
   "language": "python",
   "name": "python3"
  },
  "language_info": {
   "codemirror_mode": {
    "name": "ipython",
    "version": 3
   },
   "file_extension": ".py",
   "mimetype": "text/x-python",
   "name": "python",
   "nbconvert_exporter": "python",
   "pygments_lexer": "ipython3",
   "version": "3.13.7"
  }
 },
 "nbformat": 4,
 "nbformat_minor": 5
}
